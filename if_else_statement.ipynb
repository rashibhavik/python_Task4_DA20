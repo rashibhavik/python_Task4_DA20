{
 "cells": [
  {
   "cell_type": "code",
   "execution_count": null,
   "id": "cff1425b",
   "metadata": {},
   "outputs": [
    {
     "name": "stdout",
     "output_type": "stream",
     "text": [
      "Leap year\n",
      "Not positive\n",
      "Freezing point\n",
      "Child\n",
      "Correct password\n"
     ]
    }
   ],
   "source": [
    "#1\n",
    "year = 2024\n",
    "if year % 4 == 0:\n",
    "    print(\"Leap year\")\n",
    "else:\n",
    "    print(\"Not a leap year\")\n",
    "\n",
    "#2\n",
    "num = -12\n",
    "if num > 0:\n",
    "    print(\"Positive number\")\n",
    "else:\n",
    "    print(\"Not positive\")\n",
    "\n",
    "#3\n",
    "if temp <= 0:\n",
    "    print(\"Freezing point\")\n",
    "else:\n",
    "    print(\"Above freezing\")\n",
    "\n",
    "#4\n",
    "age = 14\n",
    "if age >= 18:\n",
    "    print(\"Adult\")\n",
    "else:\n",
    "    print(\"Child\")\n",
    "\n",
    "#5\n",
    "password = \"admin123\"\n",
    "if password == \"admin123\":\n",
    "    print(\"Correct password\")\n",
    "else:\n",
    "    print(\"Incorrect password\")"
   ]
  },
  {
   "cell_type": "code",
   "execution_count": null,
   "id": "64e850e6",
   "metadata": {},
   "outputs": [
    {
     "name": "stdout",
     "output_type": "stream",
     "text": [
      "before if statement, num=7\n",
      "Number is odd\n",
      "after_else\n",
      "after if_else\n"
     ]
    }
   ],
   "source": [
    "# 6\n",
    "num = 7\n",
    "print(f\"before if statement, num={num}\")\n",
    "\n",
    "if num % 2 == 0:\n",
    "    print(\"Number is even\")\n",
    "    print(\"inside_if\")\n",
    "else:\n",
    "    print(\"Number is odd\")\n",
    "    print(\"after_else\")\n",
    "\n",
    "print(\"after if_else\")\n"
   ]
  },
  {
   "cell_type": "code",
   "execution_count": null,
   "id": "367fb850",
   "metadata": {},
   "outputs": [
    {
     "name": "stdout",
     "output_type": "stream",
     "text": [
      "before if statement, temp=32\n",
      "It's hot outside\n",
      "inside_if\n",
      "after if_else\n"
     ]
    }
   ],
   "source": [
    "# 7\n",
    "temp = 32\n",
    "print(f\"before if statement, temp={temp}\")\n",
    "\n",
    "if temp > 30:\n",
    "    print(\"It's hot outside\")\n",
    "    print(\"inside_if\")\n",
    "else:\n",
    "    print(\"Weather is normal\")\n",
    "    print(\"after_else\")\n",
    "\n",
    "print(\"after if_else\")\n"
   ]
  },
  {
   "cell_type": "code",
   "execution_count": null,
   "id": "784f609f",
   "metadata": {},
   "outputs": [
    {
     "name": "stdout",
     "output_type": "stream",
     "text": [
      "before if statement, age=16\n",
      "Not eligible to vote\n",
      "after_else\n",
      "after if_else\n"
     ]
    }
   ],
   "source": [
    "# 8\n",
    "age = 16\n",
    "print(f\"before if statement, age={age}\")\n",
    "\n",
    "if age >= 18:\n",
    "    print(\"Eligible to vote\")\n",
    "    print(\"inside_if\")\n",
    "else:\n",
    "    print(\"Not eligible to vote\")\n",
    "    print(\"after_else\")\n",
    "\n",
    "print(\"after if_else\")\n"
   ]
  },
  {
   "cell_type": "code",
   "execution_count": null,
   "id": "db6f2914",
   "metadata": {},
   "outputs": [
    {
     "name": "stdout",
     "output_type": "stream",
     "text": [
      "before if statement, num=45\n",
      "Divisible by 5\n",
      "inside_if\n",
      "after if_else\n"
     ]
    }
   ],
   "source": [
    "# 9\n",
    "num = 45\n",
    "print(f\"before if statement, num={num}\")\n",
    "\n",
    "if num % 5 == 0:\n",
    "    print(\"Divisible by 5\")\n",
    "    print(\"inside_if\")\n",
    "else:\n",
    "    print(\"Not divisible by 5\")\n",
    "    print(\"after_else\")\n",
    "\n",
    "print(\"after if_else\")\n"
   ]
  },
  {
   "cell_type": "code",
   "execution_count": null,
   "id": "bb07903a",
   "metadata": {},
   "outputs": [
    {
     "name": "stdout",
     "output_type": "stream",
     "text": [
      "before if statement, password=12345\n",
      "Access denied\n",
      "after_else\n",
      "after if_else\n"
     ]
    }
   ],
   "source": [
    "# 10\n",
    "password = \"12345\"\n",
    "print(f\"before if statement, password={password}\")\n",
    "\n",
    "if password == \"admin\":\n",
    "    print(\"Access granted\")\n",
    "    print(\"inside_if\")\n",
    "else:\n",
    "    print(\"Access denied\")\n",
    "    print(\"after_else\")\n",
    "\n",
    "print(\"after if_else\")\n"
   ]
  }
 ],
 "metadata": {
  "kernelspec": {
   "display_name": "Python 3",
   "language": "python",
   "name": "python3"
  },
  "language_info": {
   "codemirror_mode": {
    "name": "ipython",
    "version": 3
   },
   "file_extension": ".py",
   "mimetype": "text/x-python",
   "name": "python",
   "nbconvert_exporter": "python",
   "pygments_lexer": "ipython3",
   "version": "3.12.1"
  }
 },
 "nbformat": 4,
 "nbformat_minor": 5
}
