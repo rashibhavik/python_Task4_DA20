{
 "cells": [
  {
   "cell_type": "code",
   "execution_count": null,
   "id": "4f1efd55",
   "metadata": {},
   "outputs": [
    {
     "name": "stdout",
     "output_type": "stream",
     "text": [
      "Zero\n",
      "Distinction\n",
      "b is larger\n",
      "Eligible for voting only\n",
      "Divisible by both 2 and 5\n"
     ]
    }
   ],
   "source": [
    "# 1\n",
    "num = 0\n",
    "if num >= 0:\n",
    "    if num == 0:\n",
    "        print(\"Zero\")\n",
    "    else:\n",
    "        print(\"Positive\")\n",
    "else:\n",
    "    print(\"Negative\")\n",
    "\n",
    "# 2\n",
    "marks = 85\n",
    "if marks >= 33:\n",
    "    if marks >= 75:\n",
    "        print(\"Distinction\")\n",
    "    else:\n",
    "        print(\"Pass\")\n",
    "else:\n",
    "    print(\"Fail\")\n",
    "\n",
    "# 3\n",
    "a, b = 10, 20\n",
    "if a > b:\n",
    "    print(\"a is larger\")\n",
    "else:\n",
    "    if b > a:\n",
    "        print(\"b is larger\")\n",
    "    else:\n",
    "        print(\"Both are equal\")\n",
    "\n",
    "# 4\n",
    "age = 19\n",
    "if age >= 18:\n",
    "    if age >= 21:\n",
    "        print(\"Eligible for all elections\")\n",
    "    else:\n",
    "        print(\"Eligible for voting only\")\n",
    "else:\n",
    "    print(\"Not eligible\")\n",
    "\n",
    "# 5\n",
    "n = 30\n",
    "if n % 2 == 0:\n",
    "    if n % 5 == 0:\n",
    "        print(\"Divisible by both 2 and 5\")\n",
    "    else:\n",
    "        print(\"Divisible by 2 only\")\n",
    "else:\n",
    "    print(\"Not divisible by 2\")"
   ]
  },
  {
   "cell_type": "code",
   "execution_count": null,
   "id": "205e4f68",
   "metadata": {},
   "outputs": [
    {
     "name": "stdout",
     "output_type": "stream",
     "text": [
      "Cool weather\n"
     ]
    }
   ],
   "source": [
    "# 6\n",
    "temp = 15\n",
    "if temp > 25:\n",
    "    if temp > 35:\n",
    "        print(\"Too hot, stay inside\")\n",
    "    else:\n",
    "        print(\"Warm but manageable\")\n",
    "else:\n",
    "    if temp < 10:\n",
    "        print(\"Very cold, wear jacket\")\n",
    "    else:\n",
    "        print(\"Cool weather\")\n"
   ]
  },
  {
   "cell_type": "code",
   "execution_count": null,
   "id": "69a97d5f",
   "metadata": {},
   "outputs": [
    {
     "name": "stdout",
     "output_type": "stream",
     "text": [
      "Not eligible for license\n"
     ]
    }
   ],
   "source": [
    "# 7\n",
    "age = 17\n",
    "if age >= 18:\n",
    "    if age >= 21:\n",
    "        print(\"Eligible for heavy vehicle license\")\n",
    "    else:\n",
    "        print(\"Eligible for two-wheeler and car license only\")\n",
    "else:\n",
    "    print(\"Not eligible for license\")"
   ]
  },
  {
   "cell_type": "code",
   "execution_count": null,
   "id": "4accf76f",
   "metadata": {},
   "outputs": [
    {
     "name": "stdout",
     "output_type": "stream",
     "text": [
      "Good attendance\n"
     ]
    }
   ],
   "source": [
    "# 8\n",
    "attendance = 82\n",
    "if attendance >= 75:\n",
    "    if attendance >= 90:\n",
    "        print(\"Excellent attendance\")\n",
    "    else:\n",
    "        print(\"Good attendance\")\n",
    "else:\n",
    "    if attendance >= 50:\n",
    "        print(\"Average attendance, needs improvement\")\n",
    "    else:\n",
    "        print(\"Very poor attendance\")\n"
   ]
  },
  {
   "cell_type": "code",
   "execution_count": null,
   "id": "37247f1a",
   "metadata": {},
   "outputs": [
    {
     "name": "stdout",
     "output_type": "stream",
     "text": [
      "Bonus: 10% of salary\n"
     ]
    }
   ],
   "source": [
    "# 9\n",
    "performance = \"good\"\n",
    "years = 4\n",
    "if performance == \"good\":\n",
    "    if years >= 5:\n",
    "        print(\"Bonus: 20% of salary\")\n",
    "    else:\n",
    "        print(\"Bonus: 10% of salary\")\n",
    "else:\n",
    "    print(\"No bonus this year\")\n"
   ]
  },
  {
   "cell_type": "code",
   "execution_count": null,
   "id": "a9a467ab",
   "metadata": {},
   "outputs": [
    {
     "name": "stdout",
     "output_type": "stream",
     "text": [
      "Bill = ₹1500\n"
     ]
    }
   ],
   "source": [
    "# 10\n",
    "units = 250\n",
    "if units <= 100:\n",
    "    print(\"Bill = ₹500\")\n",
    "else:\n",
    "    if units <= 200:\n",
    "        print(\"Bill = ₹1000\")\n",
    "    else:\n",
    "        print(\"Bill = ₹1500\")"
   ]
  }
 ],
 "metadata": {
  "kernelspec": {
   "display_name": "Python 3",
   "language": "python",
   "name": "python3"
  },
  "language_info": {
   "codemirror_mode": {
    "name": "ipython",
    "version": 3
   },
   "file_extension": ".py",
   "mimetype": "text/x-python",
   "name": "python",
   "nbconvert_exporter": "python",
   "pygments_lexer": "ipython3",
   "version": "3.12.1"
  }
 },
 "nbformat": 4,
 "nbformat_minor": 5
}
